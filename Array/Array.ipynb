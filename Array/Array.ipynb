{
 "cells": [
  {
   "cell_type": "markdown",
   "metadata": {},
   "source": [
    "### 배열 사용 이유\n",
    "- 같은 종류의 데이터를 효율적으로 관리하기 위해 사용\n",
    "- 같은 종류의 데이터를 순차적으로 저장\n",
    "- 장점: \n",
    "  - 빠른 접근 가능\n",
    "    - 첫 데이터의 위치에서 상대적인 위치로 데이터 접근(인덱스 번호로 접근)\n",
    "- 단점: \n",
    "  - 데이터 추가/삭제의 어려움\n",
    "    - 미리 최대 길이를 지정해야 함\n",
    "\n",
    "- 파이썬에서는 리스트로 배열 구현 가능"
   ]
  },
  {
   "cell_type": "code",
   "execution_count": null,
   "metadata": {},
   "outputs": [],
   "source": [
    "# 1차원 배열: 리스트로 구현시\n",
    "data_list = [1, 2, 3, 4, 5]\n",
    "data_list"
   ]
  },
  {
   "cell_type": "code",
   "execution_count": null,
   "metadata": {},
   "outputs": [],
   "source": []
  }
 ],
 "metadata": {
  "kernelspec": {
   "display_name": "Python 3.7.8 64-bit",
   "language": "python",
   "name": "python3"
  },
  "language_info": {
   "name": "python",
   "version": "3.7.8"
  },
  "orig_nbformat": 4,
  "vscode": {
   "interpreter": {
    "hash": "16ba53182382be989e05fa75fa8d623481629e18e51cd43cc186493887775349"
   }
  }
 },
 "nbformat": 4,
 "nbformat_minor": 2
}
