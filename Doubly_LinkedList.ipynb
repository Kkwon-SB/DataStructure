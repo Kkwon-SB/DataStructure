{
 "cells": [
  {
   "cell_type": "code",
   "execution_count": 27,
   "metadata": {},
   "outputs": [],
   "source": [
    "class Node:\n",
    "    def __init__(self, data, prev=None, next=None):\n",
    "        self.prev = prev\n",
    "        self.data = data\n",
    "        self.next = next\n",
    "\n",
    "class NodeMgmt:\n",
    "    def __init__(self, data):\n",
    "        self.head = Node(data)\n",
    "        self.tail = self.head\n",
    "\n",
    "    def add(self, data):\n",
    "        new = Node(data)\n",
    "        self.tail = new\n",
    "\n",
    "        node = self.head \n",
    "        while node.next:\n",
    "            node = node.next\n",
    "            \n",
    "        node.next = new\n",
    "        new.prev = node\n",
    "\n",
    "    #응용 - 주어진 a값을 리스트의 b값 앞에 저장(앞 -> 뒤)\n",
    "    def insert_before_val(self, data, before_data):\n",
    "        new = Node(data)\n",
    "        node = self.head\n",
    "\n",
    "        while node.next: \n",
    "            if node.next.data == before_data:\n",
    "                after_node = node.next\n",
    "                \n",
    "                after_node.prev = new\n",
    "                new.next = after_node\n",
    "                \n",
    "                node.next = new\n",
    "                new.prev = node\n",
    "                return print('success')\n",
    "            else:\n",
    "                node = node.next\n",
    "\n",
    "    #응용 - 주어진 a값을 리스트의 b값 뒤에 저장(뒤 -> 앞)\n",
    "    def insert_after_val(self, data, after_data):\n",
    "        new = Node(data)\n",
    "        node = self.tail\n",
    "\n",
    "        while node.prev: \n",
    "            if node.prev.data == after_data:\n",
    "                before_node = node.prev\n",
    "                before_node.next = new\n",
    "                new.prev = before_node\n",
    "                node.prev = new\n",
    "                new.next = node\n",
    "                return print('success')\n",
    "            else:\n",
    "                node = node.prev\n",
    "\n",
    "    #응용 - 특정 위치에 있는 노드 제거( 0 ~ )\n",
    "    def delete_location(self, loc):\n",
    "        if int(loc) == 0: #head 경우\n",
    "            print('vvvv')\n",
    "            node = self.head\n",
    "            self.head = node.next\n",
    "            node.next.prev = self.head\n",
    "            del node\n",
    "        else: #중간\n",
    "            cnt = 0\n",
    "            node = self.head\n",
    "            while node.next:\n",
    "                if cnt == loc:\n",
    "                    node.prev.next = node.next\n",
    "                    node.next.prev = node.prev\n",
    "                    del node\n",
    "                    return\n",
    "                else:\n",
    "                    node = node.next\n",
    "                    cnt += 1\n",
    "                    \n",
    "            #tail 경우\n",
    "            if cnt < loc:# 이 부분을 지우면 'index out of range'상황에서도 마지막 부분을 지울 수 있다.\n",
    "                return print('해당 순서에 노드가 없습니다.',cnt, loc) \n",
    "            elif node.next == None:\n",
    "                self.tail = node.prev\n",
    "                node.prev.next = None\n",
    "                del node\n",
    "            \n",
    "    def desc(self):\n",
    "        node = self.head\n",
    "        while node:\n",
    "            print (node.data)\n",
    "            node = node.next\n"
   ]
  },
  {
   "cell_type": "code",
   "execution_count": 28,
   "metadata": {},
   "outputs": [
    {
     "name": "stdout",
     "output_type": "stream",
     "text": [
      "0\n",
      "1\n",
      "2\n",
      "3\n",
      "4\n",
      "5\n",
      "6\n",
      "7\n",
      "8\n",
      "9\n"
     ]
    }
   ],
   "source": [
    "l1 = NodeMgmt(0)\n",
    "\n",
    "for i in range(1,10):\n",
    "    l1.add(i)\n",
    "\n",
    "l1.desc()\n",
    "\n"
   ]
  },
  {
   "cell_type": "code",
   "execution_count": 34,
   "metadata": {},
   "outputs": [
    {
     "name": "stdout",
     "output_type": "stream",
     "text": [
      "해당 순서에 노드가 없습니다. 6 7\n",
      "0\n",
      "1\n",
      "2\n",
      "3\n",
      "4\n",
      "5\n",
      "6\n"
     ]
    }
   ],
   "source": [
    "l1.delete_location(7)#숫자 1\n",
    "l1.desc()"
   ]
  },
  {
   "cell_type": "code",
   "execution_count": 76,
   "metadata": {},
   "outputs": [
    {
     "name": "stdout",
     "output_type": "stream",
     "text": [
      "success\n",
      "0\n",
      "1\n",
      "2\n",
      "3\n",
      "1.5\n",
      "4\n",
      "5\n",
      "6\n",
      "8\n",
      "9\n"
     ]
    }
   ],
   "source": [
    "l1.insert_before_val(1.5, 4)\n",
    "l1.desc()"
   ]
  },
  {
   "cell_type": "code",
   "execution_count": 20,
   "metadata": {},
   "outputs": [
    {
     "name": "stdout",
     "output_type": "stream",
     "text": [
      "success\n",
      "0\n",
      "1\n",
      "2\n",
      "3\n",
      "1.5\n",
      "4\n",
      "5\n",
      "6\n",
      "7\n",
      "1.5\n",
      "8\n",
      "9\n"
     ]
    }
   ],
   "source": [
    "l1.insert_after_val(1.5, 7)\n",
    "l1.desc()"
   ]
  },
  {
   "cell_type": "code",
   "execution_count": 35,
   "metadata": {},
   "outputs": [
    {
     "ename": "IndexError",
     "evalue": "list index out of range",
     "output_type": "error",
     "traceback": [
      "\u001b[1;31m---------------------------------------------------------------------------\u001b[0m",
      "\u001b[1;31mIndexError\u001b[0m                                Traceback (most recent call last)",
      "\u001b[1;32m~\\AppData\\Local\\Temp\\ipykernel_16972\\4171537039.py\u001b[0m in \u001b[0;36m<module>\u001b[1;34m\u001b[0m\n\u001b[0;32m      2\u001b[0m \u001b[1;33m\u001b[0m\u001b[0m\n\u001b[0;32m      3\u001b[0m \u001b[1;32mfor\u001b[0m \u001b[0mi\u001b[0m \u001b[1;32min\u001b[0m \u001b[0mrange\u001b[0m\u001b[1;33m(\u001b[0m\u001b[1;36m10\u001b[0m\u001b[1;33m)\u001b[0m\u001b[1;33m:\u001b[0m\u001b[1;33m\u001b[0m\u001b[1;33m\u001b[0m\u001b[0m\n\u001b[1;32m----> 4\u001b[1;33m     \u001b[0ma\u001b[0m\u001b[1;33m[\u001b[0m\u001b[0mi\u001b[0m\u001b[1;33m]\u001b[0m\u001b[1;33m\u001b[0m\u001b[1;33m\u001b[0m\u001b[0m\n\u001b[0m",
      "\u001b[1;31mIndexError\u001b[0m: list index out of range"
     ]
    }
   ],
   "source": [
    "a = [1,2,3]\n",
    "\n",
    "for i in range(10):\n",
    "    a[i]"
   ]
  }
 ],
 "metadata": {
  "kernelspec": {
   "display_name": "Python 3.7.8 64-bit",
   "language": "python",
   "name": "python3"
  },
  "language_info": {
   "codemirror_mode": {
    "name": "ipython",
    "version": 3
   },
   "file_extension": ".py",
   "mimetype": "text/x-python",
   "name": "python",
   "nbconvert_exporter": "python",
   "pygments_lexer": "ipython3",
   "version": "3.7.8"
  },
  "orig_nbformat": 4,
  "vscode": {
   "interpreter": {
    "hash": "16ba53182382be989e05fa75fa8d623481629e18e51cd43cc186493887775349"
   }
  }
 },
 "nbformat": 4,
 "nbformat_minor": 2
}
