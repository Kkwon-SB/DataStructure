{
 "cells": [
  {
   "cell_type": "code",
   "execution_count": null,
   "metadata": {},
   "outputs": [],
   "source": [
    "#키(Key)에 데이터(Value)를 저장하는 데이터 구조\n",
    "#Key를 통해 바로 데이터를 받아올 수 있으므로, 속도가 획기적으로 빨라짐"
   ]
  },
  {
   "cell_type": "code",
   "execution_count": null,
   "metadata": {},
   "outputs": [],
   "source": [
    "'''\n",
    "- 장점\n",
    "  - 데이터 저장/읽기 속도가 빠르다. (검색 속도가 빠르다.)\n",
    "  - 해쉬는 키에 대한 데이터가 있는지(중복) 확인이 쉬움\n",
    "- 단점 \n",
    "  - 일반적으로 저장공간이 좀더 많이 필요하다.\n",
    "  - **여러 키에 해당하는 주소가 동일할 경우 충돌을 해결하기 위한 별도 자료구조가 필요함**\n",
    "- 주요 용도\n",
    "  - 검색이 많이 필요한 경우\n",
    "  - 저장, 삭제, 읽기가 빈번한 경우\n",
    "  - 캐쉬 구현시 (중복 확인이 쉽기 때문)\n",
    "'''"
   ]
  },
  {
   "cell_type": "code",
   "execution_count": null,
   "metadata": {},
   "outputs": [],
   "source": [
    "hash_table = list([0 for i in range(8)])\n",
    "\n",
    "def get_key(data):\n",
    "    return hash(data)\n",
    "\n",
    "def hash_function(key):\n",
    "    return key % 8\n",
    "\n",
    "def save_data(data, value):\n",
    "    hash_address = hash_function(get_key(data))\n",
    "    hash_table[hash_address] = value\n",
    "    \n",
    "def read_data(data):\n",
    "    hash_address = hash_function(get_key(data))\n",
    "    return hash_table[hash_address]"
   ]
  }
 ],
 "metadata": {
  "kernelspec": {
   "display_name": "Python 3.7.8 64-bit",
   "language": "python",
   "name": "python3"
  },
  "language_info": {
   "name": "python",
   "version": "3.7.8"
  },
  "orig_nbformat": 4,
  "vscode": {
   "interpreter": {
    "hash": "16ba53182382be989e05fa75fa8d623481629e18e51cd43cc186493887775349"
   }
  }
 },
 "nbformat": 4,
 "nbformat_minor": 2
}
