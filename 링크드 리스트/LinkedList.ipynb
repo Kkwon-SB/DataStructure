{
 "cells": [
  {
   "cell_type": "code",
   "execution_count": 2,
   "metadata": {},
   "outputs": [],
   "source": [
    "#생성\n",
    "class Node:\n",
    "    def __init__(self, data, next=None):\n",
    "        self.data = data\n",
    "        self.next = next\n",
    "\n",
    "#시작 class 및 추가 삭제 조회 함수\n",
    "class NodeMgmt:\n",
    "    def __init__(self, data):\n",
    "        self.head = Node(data)\n",
    "\n",
    "    def add(self, data):\n",
    "        if self.head == None:\n",
    "            self.head = Node(data)\n",
    "        else:\n",
    "            node = self.head\n",
    "            while node.next:\n",
    "                node = node.next\n",
    "            node.next = Node(data)\n",
    "\n",
    "    def delete(self, data): \n",
    "        if self.head == None:\n",
    "            print('텅 비었습니다.')\n",
    "            return\n",
    "\n",
    "        if self.head.data == data:\n",
    "            temp = self.head\n",
    "            self.head = self.head.next\n",
    "            del temp\n",
    "        else:\n",
    "            node = self.head\n",
    "            # while self.head.data != data:\n",
    "            while node.next:\n",
    "                if node.next.data == data: #찾음!\n",
    "                    temp = node.next\n",
    "                    node.next = node.next.next  #주소가 바뀜\n",
    "                    del temp\n",
    "                    return\n",
    "                else:\n",
    "                    node = node.next\n",
    "\n",
    "    def desc(self):\n",
    "        node = self.head\n",
    "        while node.next:\n",
    "            print(node.data)\n",
    "            node = node.next\n",
    "        print(node.data)"
   ]
  },
  {
   "cell_type": "code",
   "execution_count": 3,
   "metadata": {},
   "outputs": [
    {
     "name": "stdout",
     "output_type": "stream",
     "text": [
      "0\n",
      "1\n",
      "2\n",
      "3\n",
      "4\n",
      "5\n",
      "6\n",
      "7\n",
      "8\n",
      "9\n"
     ]
    }
   ],
   "source": [
    "llist = NodeMgmt(0)\n",
    "\n",
    "for data in range(1, 10):\n",
    "    llist.add(data)\n",
    "llist.desc()"
   ]
  },
  {
   "cell_type": "code",
   "execution_count": 4,
   "metadata": {},
   "outputs": [
    {
     "name": "stdout",
     "output_type": "stream",
     "text": [
      "1\n",
      "2\n",
      "3\n",
      "4\n",
      "5\n",
      "6\n",
      "7\n",
      "8\n",
      "9\n"
     ]
    }
   ],
   "source": [
    "llist.delete(0)\n",
    "llist.desc()"
   ]
  },
  {
   "cell_type": "code",
   "execution_count": 5,
   "metadata": {},
   "outputs": [
    {
     "name": "stdout",
     "output_type": "stream",
     "text": [
      "1\n",
      "2\n",
      "3\n",
      "4\n",
      "5\n",
      "6\n",
      "7\n",
      "8\n",
      "9\n",
      "0\n"
     ]
    }
   ],
   "source": [
    "llist.add(0)\n",
    "llist.desc()\n"
   ]
  }
 ],
 "metadata": {
  "kernelspec": {
   "display_name": "Python 3.7.8 64-bit",
   "language": "python",
   "name": "python3"
  },
  "language_info": {
   "codemirror_mode": {
    "name": "ipython",
    "version": 3
   },
   "file_extension": ".py",
   "mimetype": "text/x-python",
   "name": "python",
   "nbconvert_exporter": "python",
   "pygments_lexer": "ipython3",
   "version": "3.7.8"
  },
  "orig_nbformat": 4,
  "vscode": {
   "interpreter": {
    "hash": "16ba53182382be989e05fa75fa8d623481629e18e51cd43cc186493887775349"
   }
  }
 },
 "nbformat": 4,
 "nbformat_minor": 2
}
